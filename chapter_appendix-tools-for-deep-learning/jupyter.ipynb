{
  "cells": [
    {
      "cell_type": "code",
      "source": [
        "!pip install pyvirtualdisplay"
      ],
      "metadata": {
        "id": "h-4zWX-alEDl"
      },
      "id": "h-4zWX-alEDl",
      "execution_count": null,
      "outputs": []
    },
    {
      "cell_type": "code",
      "source": [
        "!apt-get update\n",
        "!apt-get install xvfb"
      ],
      "metadata": {
        "id": "NVb61yVVlME9"
      },
      "id": "NVb61yVVlME9",
      "execution_count": null,
      "outputs": []
    },
    {
      "cell_type": "code",
      "source": [
        "from IPython import get_ipython\n",
        "from IPython.display import display\n",
        "import tkinter as tk\n",
        "from sklearn.tree import DecisionTreeClassifier\n",
        "from sklearn.datasets import load_iris\n",
        "from sklearn.model_selection import train_test_split\n",
        "from pyvirtualdisplay import Display\n",
        "\n",
        "# Start virtual display\n",
        "display = Display(visible=0, size=(800, 600))\n",
        "display.start()\n",
        "\n",
        "# Load Iris dataset\n",
        "iris = load_iris()\n",
        "X = iris.data\n",
        "y = iris.target\n",
        "\n",
        "# Split dataset into training and testing sets\n",
        "X_train, X_test, y_train, y_test = train_test_split(X, y, test_size=0.2, random_state=42)\n",
        "\n",
        "# Train decision tree classifier\n",
        "clf = DecisionTreeClassifier(random_state=42)\n",
        "clf.fit(X_train, y_train)\n",
        "\n",
        "# Create GUI\n",
        "class DecisionTreeGUI:\n",
        "    def __init__(self):\n",
        "        self.window = tk.Tk()\n",
        "        self.window.title(\"Decision Tree Classifier\")\n",
        "\n",
        "        # ... (Rest of your GUI code remains the same) ...\n",
        "\n",
        "    def run(self): # Define the run method within the DecisionTreeGUI class\n",
        "        self.window.mainloop()\n",
        "\n",
        "if __name__ == \"__main__\":\n",
        "    gui = DecisionTreeGUI()\n",
        "    gui.run()\n",
        "\n",
        "# Stop virtual display when done (optional)\n",
        "display.stop()"
      ],
      "metadata": {
        "id": "54Rklx5EkJwB"
      },
      "id": "54Rklx5EkJwB",
      "execution_count": null,
      "outputs": []
    },
    {
      "cell_type": "code",
      "source": [
        "from IPython import get_ipython\n",
        "from IPython.display import display\n",
        "import tkinter as tk\n",
        "from sklearn.tree import DecisionTreeClassifier\n",
        "from sklearn.datasets import load_iris\n",
        "from sklearn.model_selection import train_test_split\n",
        "from pyvirtualdisplay import Display\n",
        "\n",
        "# Start virtual display\n",
        "display = Display(visible=0, size=(800, 600))\n",
        "display.start()\n",
        "\n",
        "# Load Iris dataset\n",
        "iris = load_iris()\n",
        "X = iris.data\n",
        "y = iris.target\n",
        "\n",
        "# Split dataset into training and testing sets\n",
        "X_train, X_test, y_train, y_test = train_test_split(X, y, test_size=0.2, random_state=42)\n",
        "\n",
        "# Train decision tree classifier\n",
        "clf = DecisionTreeClassifier(random_state=42)\n",
        "clf.fit(X_train, y_train)\n",
        "\n",
        "# Create GUI\n",
        "class DecisionTreeGUI:\n",
        "    def __init__(self):\n",
        "        self.window = tk.Tk()\n",
        "        self.window.title(\"Decision Tree Classifier\")\n",
        "\n",
        "        # ... (Rest of your GUI code remains the same) ...\n",
        "\n",
        "if __name__ == \"__main__\":\n",
        "    gui = DecisionTreeGUI()\n",
        "    gui.run()\n",
        "\n",
        "# Stop virtual display when done (optional)\n",
        "display.stop()"
      ],
      "metadata": {
        "colab": {
          "base_uri": "https://localhost:8080/",
          "height": 211
        },
        "id": "kbaqpN2Cjpg1",
        "outputId": "6f0220c7-f746-4dbd-830d-87d6f6aa47bd"
      },
      "id": "kbaqpN2Cjpg1",
      "execution_count": 10,
      "outputs": [
        {
          "output_type": "error",
          "ename": "AttributeError",
          "evalue": "'DecisionTreeGUI' object has no attribute 'run'",
          "traceback": [
            "\u001b[0;31m---------------------------------------------------------------------------\u001b[0m",
            "\u001b[0;31mAttributeError\u001b[0m                            Traceback (most recent call last)",
            "\u001b[0;32m<ipython-input-10-3f4441697f71>\u001b[0m in \u001b[0;36m<cell line: 0>\u001b[0;34m()\u001b[0m\n\u001b[1;32m     33\u001b[0m \u001b[0;32mif\u001b[0m \u001b[0m__name__\u001b[0m \u001b[0;34m==\u001b[0m \u001b[0;34m\"__main__\"\u001b[0m\u001b[0;34m:\u001b[0m\u001b[0;34m\u001b[0m\u001b[0;34m\u001b[0m\u001b[0m\n\u001b[1;32m     34\u001b[0m     \u001b[0mgui\u001b[0m \u001b[0;34m=\u001b[0m \u001b[0mDecisionTreeGUI\u001b[0m\u001b[0;34m(\u001b[0m\u001b[0;34m)\u001b[0m\u001b[0;34m\u001b[0m\u001b[0;34m\u001b[0m\u001b[0m\n\u001b[0;32m---> 35\u001b[0;31m     \u001b[0mgui\u001b[0m\u001b[0;34m.\u001b[0m\u001b[0mrun\u001b[0m\u001b[0;34m(\u001b[0m\u001b[0;34m)\u001b[0m\u001b[0;34m\u001b[0m\u001b[0;34m\u001b[0m\u001b[0m\n\u001b[0m\u001b[1;32m     36\u001b[0m \u001b[0;34m\u001b[0m\u001b[0m\n\u001b[1;32m     37\u001b[0m \u001b[0;31m# Stop virtual display when done (optional)\u001b[0m\u001b[0;34m\u001b[0m\u001b[0;34m\u001b[0m\u001b[0m\n",
            "\u001b[0;31mAttributeError\u001b[0m: 'DecisionTreeGUI' object has no attribute 'run'"
          ]
        }
      ]
    },
    {
      "cell_type": "code",
      "source": [
        "import tkinter as tk\n",
        "from sklearn.tree import DecisionTreeClassifier\n",
        "from sklearn.datasets import load_iris\n",
        "from sklearn.model_selection import train_test_split\n",
        "\n",
        "# Load Iris dataset\n",
        "iris = load_iris()\n",
        "X = iris.data\n",
        "y = iris.target\n",
        "\n",
        "# Split dataset into training and testing sets\n",
        "X_train, X_test, y_train, y_test = train_test_split(X, y, test_size=0.2, random_state=42)\n",
        "\n",
        "# Train decision tree classifier\n",
        "clf = DecisionTreeClassifier(random_state=42)\n",
        "clf.fit(X_train, y_train)\n",
        "\n",
        "# Create GUI\n",
        "class DecisionTreeGUI:\n",
        "    def __init__(self):\n",
        "        self.window = tk.Tk()\n",
        "        self.window.title(\"Decision Tree Classifier\")\n",
        "\n",
        "        # Create input fields for features\n",
        "        self.sepal_length_label = tk.Label(self.window, text=\"Sepal Length:\")\n",
        "        self.sepal_length_label.grid(column=0, row=0)\n",
        "        self.sepal_length_entry = tk.Entry(self.window)\n",
        "        self.sepal_length_entry.grid(column=1, row=0)\n",
        "\n",
        "        self.sepal_width_label = tk.Label(self.window, text=\"Sepal Width:\")\n",
        "        self.sepal_width_label.grid(column=0, row=1)\n",
        "        self.sepal_width_entry = tk.Entry(self.window)\n",
        "        self.sepal_width_entry.grid(column=1, row=1)\n",
        "\n",
        "        self.petal_length_label = tk.Label(self.window, text=\"Petal Length:\")\n",
        "        self.petal_length_label.grid(column=0, row=2)\n",
        "        self.petal_length_entry = tk.Entry(self.window)\n",
        "        self.petal_length_entry.grid(column=1, row=2)\n",
        "\n",
        "        self.petal_width_label = tk.Label(self.window, text=\"Petal Width:\")\n",
        "        self.petal_width_label.grid(column=0, row=3)\n",
        "        self.petal_width_entry = tk.Entry(self.window)\n",
        "        self.petal_width_entry.grid(column=1, row=3)\n",
        "\n",
        "        # Create button to predict species\n",
        "        self.predict_button = tk.Button(self.window, text=\"Predict Species\", command=self.predict_species)\n",
        "        self.predict_button.grid(column=0, row=4)\n",
        "\n",
        "        # Create label to display predicted species\n",
        "        self.predicted_species_label = tk.Label(self.window, text=\"\")\n",
        "        self.predicted_species_label.grid(column=1, row=4)\n",
        "\n",
        "    def predict_species(self):\n",
        "        # Get input values from user\n",
        "        sepal_length = float(self.sepal_length_entry.get())\n",
        "        sepal_width = float(self.sepal_width_entry.get())\n",
        "        petal_length = float(self.petal_length_entry.get())\n",
        "        petal_width = float(self.petal_width_entry.get())\n",
        "\n",
        "        # Create input array\n",
        "        input_array = [[sepal_length, sepal_width, petal_length, petal_width]]\n",
        "\n",
        "        # Predict species using decision tree classifier\n",
        "        predicted_species = clf.predict(input_array)\n",
        "\n",
        "        # Display predicted species\n",
        "        self.predicted_species_label['text'] = iris.target_names[predicted_species[0]]\n",
        "\n",
        "    def run(self):\n",
        "        self.window.mainloop()\n",
        "\n",
        "if __name__ == \"__main__\":\n",
        "    gui = DecisionTreeGUI()\n",
        "    gui.run()"
      ],
      "metadata": {
        "colab": {
          "base_uri": "https://localhost:8080/",
          "height": 339
        },
        "id": "g3sqp8VYjHFQ",
        "outputId": "b178554a-92bc-4a81-8e3a-fffdf58d45da"
      },
      "id": "g3sqp8VYjHFQ",
      "execution_count": 8,
      "outputs": [
        {
          "output_type": "error",
          "ename": "TclError",
          "evalue": "no display name and no $DISPLAY environment variable",
          "traceback": [
            "\u001b[0;31m---------------------------------------------------------------------------\u001b[0m",
            "\u001b[0;31mTclError\u001b[0m                                  Traceback (most recent call last)",
            "\u001b[0;32m<ipython-input-8-87f5b04918b4>\u001b[0m in \u001b[0;36m<cell line: 0>\u001b[0;34m()\u001b[0m\n\u001b[1;32m     71\u001b[0m \u001b[0;34m\u001b[0m\u001b[0m\n\u001b[1;32m     72\u001b[0m \u001b[0;32mif\u001b[0m \u001b[0m__name__\u001b[0m \u001b[0;34m==\u001b[0m \u001b[0;34m\"__main__\"\u001b[0m\u001b[0;34m:\u001b[0m\u001b[0;34m\u001b[0m\u001b[0;34m\u001b[0m\u001b[0m\n\u001b[0;32m---> 73\u001b[0;31m     \u001b[0mgui\u001b[0m \u001b[0;34m=\u001b[0m \u001b[0mDecisionTreeGUI\u001b[0m\u001b[0;34m(\u001b[0m\u001b[0;34m)\u001b[0m\u001b[0;34m\u001b[0m\u001b[0;34m\u001b[0m\u001b[0m\n\u001b[0m\u001b[1;32m     74\u001b[0m     \u001b[0mgui\u001b[0m\u001b[0;34m.\u001b[0m\u001b[0mrun\u001b[0m\u001b[0;34m(\u001b[0m\u001b[0;34m)\u001b[0m\u001b[0;34m\u001b[0m\u001b[0;34m\u001b[0m\u001b[0m\n",
            "\u001b[0;32m<ipython-input-8-87f5b04918b4>\u001b[0m in \u001b[0;36m__init__\u001b[0;34m(self)\u001b[0m\n\u001b[1;32m     19\u001b[0m \u001b[0;32mclass\u001b[0m \u001b[0mDecisionTreeGUI\u001b[0m\u001b[0;34m:\u001b[0m\u001b[0;34m\u001b[0m\u001b[0;34m\u001b[0m\u001b[0m\n\u001b[1;32m     20\u001b[0m     \u001b[0;32mdef\u001b[0m \u001b[0m__init__\u001b[0m\u001b[0;34m(\u001b[0m\u001b[0mself\u001b[0m\u001b[0;34m)\u001b[0m\u001b[0;34m:\u001b[0m\u001b[0;34m\u001b[0m\u001b[0;34m\u001b[0m\u001b[0m\n\u001b[0;32m---> 21\u001b[0;31m         \u001b[0mself\u001b[0m\u001b[0;34m.\u001b[0m\u001b[0mwindow\u001b[0m \u001b[0;34m=\u001b[0m \u001b[0mtk\u001b[0m\u001b[0;34m.\u001b[0m\u001b[0mTk\u001b[0m\u001b[0;34m(\u001b[0m\u001b[0;34m)\u001b[0m\u001b[0;34m\u001b[0m\u001b[0;34m\u001b[0m\u001b[0m\n\u001b[0m\u001b[1;32m     22\u001b[0m         \u001b[0mself\u001b[0m\u001b[0;34m.\u001b[0m\u001b[0mwindow\u001b[0m\u001b[0;34m.\u001b[0m\u001b[0mtitle\u001b[0m\u001b[0;34m(\u001b[0m\u001b[0;34m\"Decision Tree Classifier\"\u001b[0m\u001b[0;34m)\u001b[0m\u001b[0;34m\u001b[0m\u001b[0;34m\u001b[0m\u001b[0m\n\u001b[1;32m     23\u001b[0m \u001b[0;34m\u001b[0m\u001b[0m\n",
            "\u001b[0;32m/usr/lib/python3.11/tkinter/__init__.py\u001b[0m in \u001b[0;36m__init__\u001b[0;34m(self, screenName, baseName, className, useTk, sync, use)\u001b[0m\n\u001b[1;32m   2324\u001b[0m                 \u001b[0mbaseName\u001b[0m \u001b[0;34m=\u001b[0m \u001b[0mbaseName\u001b[0m \u001b[0;34m+\u001b[0m \u001b[0mext\u001b[0m\u001b[0;34m\u001b[0m\u001b[0;34m\u001b[0m\u001b[0m\n\u001b[1;32m   2325\u001b[0m         \u001b[0minteractive\u001b[0m \u001b[0;34m=\u001b[0m \u001b[0;32mFalse\u001b[0m\u001b[0;34m\u001b[0m\u001b[0;34m\u001b[0m\u001b[0m\n\u001b[0;32m-> 2326\u001b[0;31m         \u001b[0mself\u001b[0m\u001b[0;34m.\u001b[0m\u001b[0mtk\u001b[0m \u001b[0;34m=\u001b[0m \u001b[0m_tkinter\u001b[0m\u001b[0;34m.\u001b[0m\u001b[0mcreate\u001b[0m\u001b[0;34m(\u001b[0m\u001b[0mscreenName\u001b[0m\u001b[0;34m,\u001b[0m \u001b[0mbaseName\u001b[0m\u001b[0;34m,\u001b[0m \u001b[0mclassName\u001b[0m\u001b[0;34m,\u001b[0m \u001b[0minteractive\u001b[0m\u001b[0;34m,\u001b[0m \u001b[0mwantobjects\u001b[0m\u001b[0;34m,\u001b[0m \u001b[0museTk\u001b[0m\u001b[0;34m,\u001b[0m \u001b[0msync\u001b[0m\u001b[0;34m,\u001b[0m \u001b[0muse\u001b[0m\u001b[0;34m)\u001b[0m\u001b[0;34m\u001b[0m\u001b[0;34m\u001b[0m\u001b[0m\n\u001b[0m\u001b[1;32m   2327\u001b[0m         \u001b[0;32mif\u001b[0m \u001b[0museTk\u001b[0m\u001b[0;34m:\u001b[0m\u001b[0;34m\u001b[0m\u001b[0;34m\u001b[0m\u001b[0m\n\u001b[1;32m   2328\u001b[0m             \u001b[0mself\u001b[0m\u001b[0;34m.\u001b[0m\u001b[0m_loadtk\u001b[0m\u001b[0;34m(\u001b[0m\u001b[0;34m)\u001b[0m\u001b[0;34m\u001b[0m\u001b[0;34m\u001b[0m\u001b[0m\n",
            "\u001b[0;31mTclError\u001b[0m: no display name and no $DISPLAY environment variable"
          ]
        }
      ]
    }
  ],
  "metadata": {
    "kernelspec": {
      "display_name": "Python 3",
      "name": "python3"
    },
    "language_info": {
      "name": "python"
    },
    "required_libs": [],
    "colab": {
      "provenance": []
    }
  },
  "nbformat": 4,
  "nbformat_minor": 5
}